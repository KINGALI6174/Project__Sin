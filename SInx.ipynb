{
 "cells": [
  {
   "cell_type": "code",
   "execution_count": 2,
   "id": "53f0eb5e",
   "metadata": {},
   "outputs": [
    {
     "name": "stdout",
     "output_type": "stream",
     "text": [
      ">0, new best f([793.125, 0.28125]) = 1.998846\n",
      ">0, new best f([711.5625, 0.140625]) = 1.999933\n",
      ">0, new best f([177.1875, 0.5625]) = 1.999992\n",
      ">0, new best f([1597.5, 0.0]) = 2.000000\n",
      "Done!\n",
      "f([1597.5, 0.0]) = 2.000000\n"
     ]
    }
   ],
   "source": [
    "# genetic algorithm search for continuous function optimization\n",
    "import math\n",
    "from numpy.random import randint\n",
    "from numpy.random import rand\n",
    "\n",
    "# objective function\n",
    "def objective(x):\n",
    "\treturn math.sin(x[0] + x[1]**2.0)+1\n",
    "\n",
    "# decode bitstring to numbers\n",
    "def decode(bounds, n_bits, bitstring):\n",
    "\tdecoded = list()\n",
    "\tlargest = 2**n_bits\n",
    "\tfor i in range(len(bounds)):\n",
    "\t\t# extract the substring\n",
    "\t\tstart, end = i * (n_bits+3), (i * n_bits)+(n_bits+3)-(2*i)\n",
    "\t\tsubstring = bitstring[start:end]\n",
    "\t\t# convert bitstring to a string of chars\n",
    "\t\tchars = ''.join([str(s) for s in substring])\n",
    "\t\t# convert string to integer\n",
    "\t\tinteger = int(chars, 2)\n",
    "\t\t# scale integer to desired range\n",
    "\t\tvalue = bounds[i][0] + (integer/largest) * (bounds[i][1] - bounds[i][0])\n",
    "\t\t# store\n",
    "\t\tdecoded.append(value)\n",
    "\treturn decoded\n",
    "\n",
    "# tournament selection\n",
    "def selection(pop, scores, k=3):\n",
    "\t# first random selection\n",
    "\tselection_ix = randint(len(pop))\n",
    "\tfor ix in randint(0, len(pop), k-1):\n",
    "\t\t# check if better (e.g. perform a tournament)\n",
    "\t\tif scores[ix] < scores[selection_ix]:\n",
    "\t\t\tselection_ix = ix\n",
    "\treturn pop[selection_ix]\n",
    "\n",
    "# crossover two parents to create two children\n",
    "def crossover(p1, p2, r_cross):\n",
    "\t# children are copies of parents by default\n",
    "\tc1, c2 = p1.copy(), p2.copy()\n",
    "\t# check for recombination\n",
    "\tif rand() < r_cross:\n",
    "\t\t# select crossover point that is not on the end of the string\n",
    "\t\tpt = randint(1, len(p1)-2)\n",
    "\t\t# perform crossover\n",
    "\t\tc1 = p1[:pt] + p2[pt:]\n",
    "\t\tc2 = p2[:pt] + p1[pt:]\n",
    "\treturn [c1, c2]\n",
    "\n",
    "# mutation operator\n",
    "def mutation(bitstring, r_mut):\n",
    "\tfor i in range(len(bitstring)):\n",
    "\t\t# check for a mutation\n",
    "\t\tif rand() < r_mut:\n",
    "\t\t\t# flip the bit\n",
    "\t\t\tbitstring[i] = 1 - bitstring[i]\n",
    "\n",
    "# genetic algorithm\n",
    "def genetic_algorithm(objective, bounds, n_bits, n_iter, n_pop, r_cross, r_mut):\n",
    "\t# initial population of random bitstring\n",
    "\tpop = [randint(0, 2, n_bits*len(bounds)).tolist() for _ in range(n_pop)]\n",
    "\t# keep track of best solution\n",
    "\tbest, best_eval = 0, objective(decode(bounds, n_bits, pop[0]))\n",
    "\t# enumerate generations\n",
    "\tfor gen in range(n_iter):\n",
    "\t\t# decode population\n",
    "\t\tdecoded = [decode(bounds, n_bits, p) for p in pop]\n",
    "\t\t# evaluate all candidates in the population\n",
    "\t\tscores = [objective(d) for d in decoded]\n",
    "\t\t# check for new best solution\n",
    "\t\tfor i in range(n_pop):\n",
    "\t\t\tif scores[i] > best_eval:\n",
    "\t\t\t\tbest, best_eval = pop[i], scores[i]\n",
    "\t\t\t\tprint(\">%d, new best f(%s) = %f\" % (gen,  decoded[i], scores[i]))\n",
    "\t\t# select parents\n",
    "\t\tselected = [selection(pop, scores) for _ in range(n_pop)]\n",
    "\t\t# create the next generation\n",
    "\t\tchildren = list()\n",
    "\t\tfor i in range(0, n_pop, 2):\n",
    "\t\t\t# get selected parents in pairs\n",
    "\t\t\tp1, p2 = selected[i], selected[i+1]\n",
    "\t\t\t# crossover and mutation\n",
    "\t\t\tfor c in crossover(p1, p2, r_cross):\n",
    "\t\t\t\t# mutation\n",
    "\t\t\t\tmutation(c, r_mut)\n",
    "\t\t\t\t# store for next generation\n",
    "\t\t\t\tchildren.append(c)\n",
    "\t\t# replace population\n",
    "\t\tpop = children\n",
    "\treturn [best, best_eval]\n",
    "\n",
    "# define range for input\n",
    "bounds = [[0.0, 360.0], [0.0, 18.0]]\n",
    "# define the total iterations\n",
    "n_iter = 100\n",
    "# bits per variable\n",
    "n_bits = 7\n",
    "# define the population size\n",
    "n_pop = 1000\n",
    "# crossover rate\n",
    "r_cross = 0.95\n",
    "# mutation rate\n",
    "r_mut = 1.0 / (float(n_bits) * len(bounds))\n",
    "# perform the genetic algorithm search\n",
    "best, score = genetic_algorithm(objective, bounds, n_bits, n_iter, n_pop, r_cross, r_mut)\n",
    "print('Done!')\n",
    "decoded = decode(bounds, n_bits, best)\n",
    "print('f(%s) = %f' % (decoded, score))"
   ]
  },
  {
   "cell_type": "code",
   "execution_count": 59,
   "id": "1485fe7f",
   "metadata": {
    "scrolled": true
   },
   "outputs": [
    {
     "name": "stdout",
     "output_type": "stream",
     "text": [
      "[0, 1, 1, 0, 0, 1, 0, 1, 1, 0, 1, 0, 1, 1]\n"
     ]
    }
   ],
   "source": [
    "bounds = [[-1.0, 1.0], [-1.0, 1.0]]\n",
    "print(randint(0, 2, n_bits*len(bounds)).tolist())"
   ]
  },
  {
   "cell_type": "code",
   "execution_count": 61,
   "id": "9a9c4335",
   "metadata": {},
   "outputs": [
    {
     "name": "stdout",
     "output_type": "stream",
     "text": [
      "0\n",
      "1\n"
     ]
    }
   ],
   "source": [
    "for i in range(len(bounds)):\n",
    "    print(i)"
   ]
  },
  {
   "cell_type": "code",
   "execution_count": null,
   "id": "7bd42903",
   "metadata": {},
   "outputs": [],
   "source": []
  }
 ],
 "metadata": {
  "kernelspec": {
   "display_name": "Python 3 (ipykernel)",
   "language": "python",
   "name": "python3"
  },
  "language_info": {
   "codemirror_mode": {
    "name": "ipython",
    "version": 3
   },
   "file_extension": ".py",
   "mimetype": "text/x-python",
   "name": "python",
   "nbconvert_exporter": "python",
   "pygments_lexer": "ipython3",
   "version": "3.9.13"
  }
 },
 "nbformat": 4,
 "nbformat_minor": 5
}
